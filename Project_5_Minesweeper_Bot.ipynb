{
  "cells": [
    {
      "metadata": {
        "collapsed": true,
        "id": "8xEJI25qgjs6"
      },
      "cell_type": "markdown",
      "source": [
        "# Pig Latin Translator\n",
        "## Jared Rand\n",
        "\n",
        "### This project was meant to showcase our ability to use VB.net.\n",
        "\n",
        "### The best way to view the project is to download the executable file in the top most folder (Same one this readme is in)\n",
        "\n",
        "### In the project folder are all the files needed to run the pig latin project in Visual Studio.\n",
        "\n"
      ]
    },
    {
      "cell_type": "markdown",
      "source": [
        "<img src=\"img/bot.gif\">"
      ],
      "metadata": {
        "id": "LMwBCpMuhLSX"
      }
    }
  ],
  "metadata": {
    "kernelspec": {
      "name": "python36",
      "display_name": "Python 3.6",
      "language": "python"
    },
    "language_info": {
      "mimetype": "text/x-python",
      "nbconvert_exporter": "python",
      "name": "python",
      "pygments_lexer": "ipython3",
      "version": "3.6.6",
      "file_extension": ".py",
      "codemirror_mode": {
        "version": 3,
        "name": "ipython"
      }
    },
    "colab": {
      "name": "Project 5 -- Minesweeper Bot.ipynb",
      "provenance": [],
      "collapsed_sections": []
    }
  },
  "nbformat": 4,
  "nbformat_minor": 0
}